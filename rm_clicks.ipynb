{
 "metadata": {
  "name": "",
  "signature": "sha256:c687add7bd4aecadf1379f49a68b09cd518096039885875c1619070544d4dece"
 },
 "nbformat": 3,
 "nbformat_minor": 0,
 "worksheets": [
  {
   "cells": [
    {
     "cell_type": "heading",
     "level": 1,
     "metadata": {},
     "source": [
      "Remove clicks from the beginning of stimulus files"
     ]
    },
    {
     "cell_type": "markdown",
     "metadata": {},
     "source": [
      "Some stimulus files have clicks in the very beginning of them. This creates artifactual predicted responses in cochlear prediction model. \n",
      "\n",
      "_Goal: to manually replace the amplitude of the time bins in the beginning of the files with zeroes, so as to remove clicks_"
     ]
    },
    {
     "cell_type": "code",
     "collapsed": false,
     "input": [
      "# 5/28/2015\n",
      "%matplotlib inline\n",
      "# from IPython.display import display   # To print DataFrames nicely\n",
      "import matplotlib.pyplot as plt\n",
      "from StimResponse.wav_utility import pcm2float   # Special function in Python path\n",
      "import matplotlib.cm as cm     # Color map for STH (gray), etc\n",
      "import numpy as np\n",
      "import glob\n",
      "import os\n",
      "from StimResponse import *   # Custom data analysis commands"
     ],
     "language": "python",
     "metadata": {},
     "outputs": [],
     "prompt_number": 1
    },
    {
     "cell_type": "markdown",
     "metadata": {},
     "source": [
      "_Plan:_\n",
      "\n",
      "~load each stimulus file as an array\n",
      "\n",
      "~replace beginning of each array with zeroes\n",
      "\n",
      "~save stimulus\n"
     ]
    },
    {
     "cell_type": "code",
     "collapsed": false,
     "input": [
      "# create list of files:\n",
      "vocalDir = 'C:\\\\Users\\\\emahrt\\\\Documents\\\\mice_predictions\\\\stimuli_filter\\\\debug\\\\'\n",
      "vocalFilePattern = vocalDir + '*.call1'\n",
      "filenames = glob.glob(vocalFilePattern)\n",
      "filenames = [os.path.splitext(os.path.basename(filename))[0] for filename in filenames]\n",
      "\n",
      "# load each file\n",
      "# for vocalName in filenames:\n",
      "vocalName = '68A_25kHz_OLap2ms'\n",
      "    \n",
      "def rm_clicks(vocalName, vocalDir):\n",
      "    \"\"\" plot and save highpass filtered and distorted signal\n",
      "    :param vocalName: Name of vocalization in a call1 file\n",
      "    :type vocalName: str\n",
      "    :param vocalDir: Path to directory containing vocalization file\n",
      "    :type vocalDir: str\n",
      "    \"\"\"\n",
      "    # Load vocal signal from .call1 file\n",
      "    fname = vocalDir + vocalName + '.call1'\n",
      "    vocalSignal = np.fromfile(fname, dtype='int16')\n",
      "\n",
      "    # Convert signal to float with range within [-1.0, 1.0]\n",
      "    nVocalSignal = pcm2float(vocalSignal, np.float32)\n",
      "\n",
      "    # Find beginning of file\n",
      "    print nVocalSignal[:50]\n",
      "    image  = plt.imshow(nVocalSignal)\n",
      "    plt.show(image)\n",
      "#     nVocalSignal[:25] = 0\n",
      "\n",
      "rm_clicks(vocalName, vocalDir);\n",
      "    # Save figure and call1 file if savePath is given.\n",
      "#                 if len(savePath)>0:\n",
      "#                     maxAbs_pcm = max(abs(vocalSignal))  # Capture largest integer in the original .call1 file (int16)\n",
      "\n",
      "#                     pcmScaleDistort = maxAbs_pcm/max(abs(signalReverbDistort))  # Scaling to equalize largest integer (int16) of the distorted signal to match original\n",
      "#                     signalReverbDistort_int16 = np.int16(signalReverbDistort*pcmScaleDistort)-1\n",
      "#                     signalReverbDistort_int16.tofile(vocalDir + vocalName + '.call1')                   \n",
      "\n",
      "#                     fig.savefig(vocalDir + vocalName + '.png', bbox_inches='tight')\n",
      "#             #             signalReverbDistort_int16.tofile(vocalDir + vocalName + '_distort.call1')\n",
      "#             #             fig.savefig(vocalDir + vocalName + '_distort.png', bbox_inches='tight')\n",
      "\n",
      "#         PlotDistortion_call1(vocalName, vocalDir, highPassFreq=40000.0, savePath=vocalDir);"
     ],
     "language": "python",
     "metadata": {},
     "outputs": [
      {
       "output_type": "stream",
       "stream": "stdout",
       "text": [
        "[ -3.05175781e-05  -3.05175781e-05  -3.05175781e-05  -3.05175781e-05\n",
        "  -3.05175781e-05  -3.05175781e-05  -3.05175781e-05  -3.05175781e-05\n",
        "  -3.05175781e-05  -3.05175781e-05  -3.05175781e-05  -3.05175781e-05\n",
        "  -3.05175781e-05  -3.05175781e-05  -3.05175781e-05  -3.05175781e-05\n",
        "   0.00000000e+00  -3.05175781e-05  -3.05175781e-05   0.00000000e+00\n",
        "  -3.05175781e-05  -3.05175781e-05   0.00000000e+00  -6.10351562e-05\n",
        "  -3.05175781e-05  -3.05175781e-05  -1.22070312e-04  -3.05175781e-05\n",
        "  -6.10351562e-05  -1.52587891e-04   0.00000000e+00  -1.22070312e-04\n",
        "  -1.52587891e-04   0.00000000e+00  -2.13623047e-04  -9.15527344e-05\n",
        "   0.00000000e+00  -2.44140625e-04  -3.05175781e-05  -3.05175781e-05\n",
        "  -2.44140625e-04   1.22070312e-04  -6.10351562e-05  -1.83105469e-04\n",
        "   2.74658203e-04  -1.22070312e-04   0.00000000e+00   3.96728516e-04\n",
        "  -1.83105469e-04   2.74658203e-04]\n"
       ]
      },
      {
       "ename": "TypeError",
       "evalue": "Invalid dimensions for image data",
       "output_type": "pyerr",
       "traceback": [
        "\u001b[1;31m---------------------------------------------------------------------------\u001b[0m\n\u001b[1;31mTypeError\u001b[0m                                 Traceback (most recent call last)",
        "\u001b[1;32m<ipython-input-19-ce8a9f8bc331>\u001b[0m in \u001b[0;36m<module>\u001b[1;34m()\u001b[0m\n\u001b[0;32m     28\u001b[0m \u001b[1;31m#     nVocalSignal[:25] = 0\u001b[0m\u001b[1;33m\u001b[0m\u001b[1;33m\u001b[0m\u001b[0m\n\u001b[0;32m     29\u001b[0m \u001b[1;33m\u001b[0m\u001b[0m\n\u001b[1;32m---> 30\u001b[1;33m \u001b[0mrm_clicks\u001b[0m\u001b[1;33m(\u001b[0m\u001b[0mvocalName\u001b[0m\u001b[1;33m,\u001b[0m \u001b[0mvocalDir\u001b[0m\u001b[1;33m)\u001b[0m\u001b[1;33m;\u001b[0m\u001b[1;33m\u001b[0m\u001b[0m\n\u001b[0m\u001b[0;32m     31\u001b[0m     \u001b[1;31m# Save figure and call1 file if savePath is given.\u001b[0m\u001b[1;33m\u001b[0m\u001b[1;33m\u001b[0m\u001b[0m\n\u001b[0;32m     32\u001b[0m \u001b[1;31m#                 if len(savePath)>0:\u001b[0m\u001b[1;33m\u001b[0m\u001b[1;33m\u001b[0m\u001b[0m\n",
        "\u001b[1;32m<ipython-input-19-ce8a9f8bc331>\u001b[0m in \u001b[0;36mrm_clicks\u001b[1;34m(vocalName, vocalDir)\u001b[0m\n\u001b[0;32m     24\u001b[0m     \u001b[1;31m# Find beginning of file\u001b[0m\u001b[1;33m\u001b[0m\u001b[1;33m\u001b[0m\u001b[0m\n\u001b[0;32m     25\u001b[0m     \u001b[1;32mprint\u001b[0m \u001b[0mnVocalSignal\u001b[0m\u001b[1;33m[\u001b[0m\u001b[1;33m:\u001b[0m\u001b[1;36m50\u001b[0m\u001b[1;33m]\u001b[0m\u001b[1;33m\u001b[0m\u001b[0m\n\u001b[1;32m---> 26\u001b[1;33m     \u001b[0mimage\u001b[0m  \u001b[1;33m=\u001b[0m \u001b[0mplt\u001b[0m\u001b[1;33m.\u001b[0m\u001b[0mimshow\u001b[0m\u001b[1;33m(\u001b[0m\u001b[0mnVocalSignal\u001b[0m\u001b[1;33m)\u001b[0m\u001b[1;33m\u001b[0m\u001b[0m\n\u001b[0m\u001b[0;32m     27\u001b[0m     \u001b[0mplt\u001b[0m\u001b[1;33m.\u001b[0m\u001b[0mshow\u001b[0m\u001b[1;33m(\u001b[0m\u001b[0mimage\u001b[0m\u001b[1;33m)\u001b[0m\u001b[1;33m\u001b[0m\u001b[0m\n\u001b[0;32m     28\u001b[0m \u001b[1;31m#     nVocalSignal[:25] = 0\u001b[0m\u001b[1;33m\u001b[0m\u001b[1;33m\u001b[0m\u001b[0m\n",
        "\u001b[1;32mc:\\Anaconda\\lib\\site-packages\\matplotlib\\pyplot.pyc\u001b[0m in \u001b[0;36mimshow\u001b[1;34m(X, cmap, norm, aspect, interpolation, alpha, vmin, vmax, origin, extent, shape, filternorm, filterrad, imlim, resample, url, hold, **kwargs)\u001b[0m\n\u001b[0;32m   2953\u001b[0m                         \u001b[0mvmax\u001b[0m\u001b[1;33m=\u001b[0m\u001b[0mvmax\u001b[0m\u001b[1;33m,\u001b[0m \u001b[0morigin\u001b[0m\u001b[1;33m=\u001b[0m\u001b[0morigin\u001b[0m\u001b[1;33m,\u001b[0m \u001b[0mextent\u001b[0m\u001b[1;33m=\u001b[0m\u001b[0mextent\u001b[0m\u001b[1;33m,\u001b[0m \u001b[0mshape\u001b[0m\u001b[1;33m=\u001b[0m\u001b[0mshape\u001b[0m\u001b[1;33m,\u001b[0m\u001b[1;33m\u001b[0m\u001b[0m\n\u001b[0;32m   2954\u001b[0m                         \u001b[0mfilternorm\u001b[0m\u001b[1;33m=\u001b[0m\u001b[0mfilternorm\u001b[0m\u001b[1;33m,\u001b[0m \u001b[0mfilterrad\u001b[0m\u001b[1;33m=\u001b[0m\u001b[0mfilterrad\u001b[0m\u001b[1;33m,\u001b[0m\u001b[1;33m\u001b[0m\u001b[0m\n\u001b[1;32m-> 2955\u001b[1;33m                         imlim=imlim, resample=resample, url=url, **kwargs)\n\u001b[0m\u001b[0;32m   2956\u001b[0m         \u001b[0mdraw_if_interactive\u001b[0m\u001b[1;33m(\u001b[0m\u001b[1;33m)\u001b[0m\u001b[1;33m\u001b[0m\u001b[0m\n\u001b[0;32m   2957\u001b[0m     \u001b[1;32mfinally\u001b[0m\u001b[1;33m:\u001b[0m\u001b[1;33m\u001b[0m\u001b[0m\n",
        "\u001b[1;32mc:\\Anaconda\\lib\\site-packages\\matplotlib\\axes\\_axes.pyc\u001b[0m in \u001b[0;36mimshow\u001b[1;34m(self, X, cmap, norm, aspect, interpolation, alpha, vmin, vmax, origin, extent, shape, filternorm, filterrad, imlim, resample, url, **kwargs)\u001b[0m\n\u001b[0;32m   4628\u001b[0m                        filterrad=filterrad, resample=resample, **kwargs)\n\u001b[0;32m   4629\u001b[0m \u001b[1;33m\u001b[0m\u001b[0m\n\u001b[1;32m-> 4630\u001b[1;33m         \u001b[0mim\u001b[0m\u001b[1;33m.\u001b[0m\u001b[0mset_data\u001b[0m\u001b[1;33m(\u001b[0m\u001b[0mX\u001b[0m\u001b[1;33m)\u001b[0m\u001b[1;33m\u001b[0m\u001b[0m\n\u001b[0m\u001b[0;32m   4631\u001b[0m         \u001b[0mim\u001b[0m\u001b[1;33m.\u001b[0m\u001b[0mset_alpha\u001b[0m\u001b[1;33m(\u001b[0m\u001b[0malpha\u001b[0m\u001b[1;33m)\u001b[0m\u001b[1;33m\u001b[0m\u001b[0m\n\u001b[0;32m   4632\u001b[0m         \u001b[1;32mif\u001b[0m \u001b[0mim\u001b[0m\u001b[1;33m.\u001b[0m\u001b[0mget_clip_path\u001b[0m\u001b[1;33m(\u001b[0m\u001b[1;33m)\u001b[0m \u001b[1;32mis\u001b[0m \u001b[0mNone\u001b[0m\u001b[1;33m:\u001b[0m\u001b[1;33m\u001b[0m\u001b[0m\n",
        "\u001b[1;32mc:\\Anaconda\\lib\\site-packages\\matplotlib\\image.pyc\u001b[0m in \u001b[0;36mset_data\u001b[1;34m(self, A)\u001b[0m\n\u001b[0;32m    432\u001b[0m         if (self._A.ndim not in (2, 3) or\n\u001b[0;32m    433\u001b[0m             (self._A.ndim == 3 and self._A.shape[-1] not in (3, 4))):\n\u001b[1;32m--> 434\u001b[1;33m             \u001b[1;32mraise\u001b[0m \u001b[0mTypeError\u001b[0m\u001b[1;33m(\u001b[0m\u001b[1;34m\"Invalid dimensions for image data\"\u001b[0m\u001b[1;33m)\u001b[0m\u001b[1;33m\u001b[0m\u001b[0m\n\u001b[0m\u001b[0;32m    435\u001b[0m \u001b[1;33m\u001b[0m\u001b[0m\n\u001b[0;32m    436\u001b[0m         \u001b[0mself\u001b[0m\u001b[1;33m.\u001b[0m\u001b[0m_imcache\u001b[0m \u001b[1;33m=\u001b[0m \u001b[0mNone\u001b[0m\u001b[1;33m\u001b[0m\u001b[0m\n",
        "\u001b[1;31mTypeError\u001b[0m: Invalid dimensions for image data"
       ]
      },
      {
       "metadata": {},
       "output_type": "display_data",
       "png": "[encoded data removed]",
       "text": [
        "<matplotlib.figure.Figure at 0x14ce55f8>"
       ]
      }
     ],
     "prompt_number": 19
    }
   ],
   "metadata": {}
  }
 ]
}